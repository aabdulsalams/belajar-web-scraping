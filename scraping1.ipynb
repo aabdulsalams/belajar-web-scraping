{
 "cells": [
  {
   "cell_type": "markdown",
   "metadata": {},
   "source": [
    "# Scraping Website indonetwork.co.id"
   ]
  },
  {
   "cell_type": "markdown",
   "metadata": {},
   "source": [
    "### Inisialiasi URL"
   ]
  },
  {
   "cell_type": "code",
   "execution_count": null,
   "metadata": {},
   "outputs": [],
   "source": [
    "from urllib.request import urlopen\n",
    "website = \"https://www.indonetwork.co.id/keyword/\"\n",
    "category = \"komputer\"\n",
    "html_types = urlopen(website + category).read()\n",
    "html = html_types.decode(\"utf-8\")\n",
    "print(type(html))"
   ]
  },
  {
   "cell_type": "markdown",
   "metadata": {},
   "source": [
    "### Inisialisasi BeautifulSoup"
   ]
  },
  {
   "cell_type": "code",
   "execution_count": null,
   "metadata": {
    "scrolled": false
   },
   "outputs": [],
   "source": [
    "from bs4 import BeautifulSoup\n",
    "soup = BeautifulSoup(html, \"lxml\")\n",
    "print(type(html))\n",
    "print(soup.prettify())"
   ]
  },
  {
   "cell_type": "markdown",
   "metadata": {},
   "source": [
    "### Mencari kata kunci"
   ]
  },
  {
   "cell_type": "code",
   "execution_count": null,
   "metadata": {},
   "outputs": [],
   "source": [
    "companies = soup.find_all(\"ul\",\"seller-info\")\n",
    "for company in companies:\n",
    "    company_name = company.find('li','info-member-contact').div.text.replace('\\n',' ')\n",
    "    company_address = company.find('div','elipsis').small.text.replace('\\n',' ')\n",
    "    \n",
    "    print(f'''\n",
    "    Company Name\\t: {company_name}\n",
    "    Address\\t\\t: {company_address}\n",
    "    '''\n",
    "    )"
   ]
  }
 ],
 "metadata": {
  "kernelspec": {
   "display_name": "Python 3",
   "language": "python",
   "name": "python3"
  },
  "language_info": {
   "codemirror_mode": {
    "name": "ipython",
    "version": 3
   },
   "file_extension": ".py",
   "mimetype": "text/x-python",
   "name": "python",
   "nbconvert_exporter": "python",
   "pygments_lexer": "ipython3",
   "version": "3.8.5"
  }
 },
 "nbformat": 4,
 "nbformat_minor": 4
}
